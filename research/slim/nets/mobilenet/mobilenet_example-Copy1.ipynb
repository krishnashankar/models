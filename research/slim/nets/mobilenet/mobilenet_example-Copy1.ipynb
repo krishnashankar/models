{
 "cells": [
  {
   "cell_type": "markdown",
   "metadata": {
    "colab_type": "text",
    "id": "view-in-github"
   },
   "source": [
    "[View in Colaboratory](https://colab.research.google.com/github/marksandler2/models/blob/master/research/slim/nets/mobilenet/mobilenet_example.ipynb)"
   ]
  },
  {
   "cell_type": "markdown",
   "metadata": {
    "colab_type": "toc",
    "id": "aUVxY7xOGD1G"
   },
   "source": [
    ">[Prerequisites (downloading tensorflow_models and checkpoints)](#scrollTo=T_cETKXHDTXu)\n",
    "\n",
    ">[Checkpoint based inference](#scrollTo=fxMe7_pkk_Vo)\n",
    "\n",
    ">[Frozen inference](#scrollTo=PlwvpK3ElBk6)\n",
    "\n"
   ]
  },
  {
   "cell_type": "markdown",
   "metadata": {
    "colab_type": "text",
    "id": "T_cETKXHDTXu"
   },
   "source": [
    "# Prerequisites (downloading tensorflow_models and checkpoints)"
   ]
  },
  {
   "cell_type": "code",
   "execution_count": null,
   "metadata": {
    "colab": {},
    "colab_type": "code",
    "id": "zo5GyseklSVH"
   },
   "outputs": [],
   "source": [
    "!git clone https://github.com/tensorflow/models"
   ]
  },
  {
   "cell_type": "code",
   "execution_count": 12,
   "metadata": {
    "colab": {
     "base_uri": "https://localhost:8080/",
     "height": 35
    },
    "colab_type": "code",
    "id": "obaW6O8bz3mA",
    "outputId": "5b096d87-68dc-4475-bf49-0d4e80c4f42e"
   },
   "outputs": [
    {
     "name": "stdout",
     "output_type": "stream",
     "text": [
      "Successfully downloaded checkpoint from  http://download.tensorflow.org/models/resnet_v1_101_2016_08_28.tar.gz . It is available as resnet_v1_101.ckpt\n"
     ]
    }
   ],
   "source": [
    "from __future__ import print_function\n",
    "from IPython import display \n",
    "base_name = 'resnet_v1_101_2016_08_28.tar.gz' #@param\n",
    "url = 'http://download.tensorflow.org/models/resnet_v1_101_2016_08_28.tar.gz'\n",
    "print('Downloading from ', url)\n",
    "#!wget {url}\n",
    "print('Unpacking')\n",
    "!tar -xvf {base_name}.tgz\n",
    "checkpoint = 'resnet_v1_101.ckpt'\n",
    "\n",
    "display.clear_output()\n",
    "print('Successfully downloaded checkpoint from ', url,\n",
    "      '. It is available as', checkpoint)\n"
   ]
  },
  {
   "cell_type": "code",
   "execution_count": 43,
   "metadata": {
    "colab": {
     "base_uri": "https://localhost:8080/",
     "height": 215
    },
    "colab_type": "code",
    "id": "qZDfLegf3hpw",
    "outputId": "ea332b4f-8073-4913-97bd-733be77544b7"
   },
   "outputs": [
    {
     "name": "stdout",
     "output_type": "stream",
     "text": [
      "--2018-04-05 12:40:08--  https://upload.wikimedia.org/wikipedia/commons/f/fe/Giant_Panda_in_Beijing_Zoo_1.JPG\n",
      "Resolving upload.wikimedia.org (upload.wikimedia.org)... 198.35.26.112, 2620:0:863:ed1a::2:b\n",
      "Connecting to upload.wikimedia.org (upload.wikimedia.org)|198.35.26.112|:443... connected.\n",
      "HTTP request sent, awaiting response... 200 OK\n",
      "Length: 116068 (113K) [image/jpeg]\n",
      "Saving to: ‘panda.jpg’\n",
      "\n",
      "panda.jpg           100%[===================>] 113.35K  --.-KB/s    in 0.01s   \n",
      "\n",
      "2018-04-05 12:40:08 (7.67 MB/s) - ‘panda.jpg’ saved [116068/116068]\n",
      "\n"
     ]
    }
   ],
   "source": [
    "!wget https://upload.wikimedia.org/wikipedia/commons/f/fe/Giant_Panda_in_Beijing_Zoo_1.JPG -O panda.jpg"
   ]
  },
  {
   "cell_type": "code",
   "execution_count": 1,
   "metadata": {
    "colab": {
     "base_uri": "https://localhost:8080/",
     "height": 17
    },
    "colab_type": "code",
    "id": "g0H2RDadndug",
    "outputId": "f239ad90-64ec-49e4-b5da-fa018c7eca24"
   },
   "outputs": [],
   "source": [
    "# setup path\n",
    "import sys\n",
    "sys.path.append('/home/krishnashankar/models/research/slim')"
   ]
  },
  {
   "cell_type": "markdown",
   "metadata": {
    "colab_type": "text",
    "id": "fxMe7_pkk_Vo"
   },
   "source": [
    "# Checkpoint based inference"
   ]
  },
  {
   "cell_type": "code",
   "execution_count": 2,
   "metadata": {
    "colab": {
     "base_uri": "https://localhost:8080/",
     "height": 17
    },
    "colab_type": "code",
    "id": "GrQemT66CxXt",
    "outputId": "d533c94d-26f2-45ff-d889-02785cfceeaf"
   },
   "outputs": [
    {
     "ename": "NameError",
     "evalue": "name 'tf' is not defined",
     "output_type": "error",
     "traceback": [
      "\u001b[0;31m---------------------------------------------------------------------------\u001b[0m",
      "\u001b[0;31mNameError\u001b[0m                                 Traceback (most recent call last)",
      "\u001b[0;32m<ipython-input-2-94bb70e3c45d>\u001b[0m in \u001b[0;36m<module>\u001b[0;34m()\u001b[0m\n\u001b[1;32m      2\u001b[0m \u001b[0;32mfrom\u001b[0m \u001b[0mnets\u001b[0m\u001b[0;34m.\u001b[0m\u001b[0mmobilenet\u001b[0m \u001b[0;32mimport\u001b[0m \u001b[0mmobilenet_v2\u001b[0m\u001b[0;34m\u001b[0m\u001b[0m\n\u001b[1;32m      3\u001b[0m \u001b[0;32mfrom\u001b[0m \u001b[0mnets\u001b[0m \u001b[0;32mimport\u001b[0m \u001b[0mresnet_v1\u001b[0m\u001b[0;34m\u001b[0m\u001b[0m\n\u001b[0;32m----> 4\u001b[0;31m \u001b[0mslim\u001b[0m \u001b[0;34m=\u001b[0m \u001b[0mtf\u001b[0m\u001b[0;34m.\u001b[0m\u001b[0mcontrib\u001b[0m\u001b[0;34m.\u001b[0m\u001b[0mslim\u001b[0m\u001b[0;34m\u001b[0m\u001b[0m\n\u001b[0m\u001b[1;32m      5\u001b[0m \u001b[0mtf\u001b[0m\u001b[0;34m.\u001b[0m\u001b[0mreset_default_graph\u001b[0m\u001b[0;34m(\u001b[0m\u001b[0;34m)\u001b[0m\u001b[0;34m\u001b[0m\u001b[0m\n\u001b[1;32m      6\u001b[0m \u001b[0;34m\u001b[0m\u001b[0m\n",
      "\u001b[0;31mNameError\u001b[0m: name 'tf' is not defined"
     ]
    }
   ],
   "source": [
    "# import tensorflow as tf\n",
    "from nets.mobilenet import mobilenet_v2\n",
    "from nets import resnet_v1\n",
    "slim = tf.contrib.slim\n",
    "tf.reset_default_graph()\n",
    "\n",
    "# For simplicity we just decode jpeg inside tensorflow.\n",
    "# But one can provide any input obviously.\n",
    "file_input = tf.placeholder(tf.string, ())\n",
    "\n",
    "image = tf.image.decode_jpeg(tf.read_file(file_input))\n",
    "\n",
    "images = tf.Print(tf.expand_dims(image, 0), [tf.shape(image)])\n",
    "\n",
    "images = tf.cast(images, tf.float32) / 128.  - 1\n",
    "images.set_shape((None, None, None, 3))\n",
    "images = tf.image.resize_images(images, (224, 224))\n",
    "\n",
    "\n",
    "                                          "
   ]
  },
  {
   "cell_type": "code",
   "execution_count": 18,
   "metadata": {
    "colab": {
     "base_uri": "https://localhost:8080/",
     "height": 17
    },
    "colab_type": "code",
    "id": "GrQemT66CxXt",
    "outputId": "d533c94d-26f2-45ff-d889-02785cfceeaf"
   },
   "outputs": [],
   "source": [
    "import tensorflow as tf\n",
    "from nets.mobilenet import mobilenet_v2\n",
    "from nets import resnet_v1\n",
    "tf.reset_default_graph()\n",
    "slim = tf.contrib.slim\n",
    "# For simplicity we just decode jpeg inside tensorflow.\n",
    "# But one can provide any input obviously.\n",
    "file_input = tf.placeholder(tf.string, ())\n",
    "\n",
    "image = tf.image.decode_jpeg(tf.read_file(file_input))\n",
    "\n",
    "images = tf.Print(tf.expand_dims(image, 0), [tf.shape(image)[1:3]])\n",
    "\n",
    "images = tf.cast(images, tf.float32) / 128.  - 1\n",
    "images.set_shape((None, None, None, 3))\n",
    "images = tf.image.resize_images(images, (532, 532), method=tf.image.ResizeMethod.NEAREST_NEIGHBOR)\n",
    "shapey = tf.Print(tf.shape(images), [tf.shape(images)[1:3]])\n",
    "# Note: arg_scope is optional for inference.\n",
    "\n",
    "# Restore using exponential moving average since it produces (1.5-2%) higher \n",
    "# accuracy\n",
    "with tf.variable_scope(\"feature_extractor\"):\n",
    "    with tf.contrib.slim.arg_scope(resnet_v1.resnet_arg_scope()):\n",
    "        logits,endpoints = resnet_v1.resnet_v1_101(images,\n",
    "                                              is_training=False,\n",
    "                                              reuse=None,\n",
    "                                              output_stride=16,\n",
    "                                              global_pool=False)\n",
    "\n",
    "    with tf.name_scope(\"concat_blocks\"):\n",
    "        resnet_block_1 = endpoints['feature_extractor/resnet_v1_101/block1']\n",
    "        resnet_block_2 = endpoints['feature_extractor/resnet_v1_101/block2']\n",
    "        resnet_block_3 = endpoints['feature_extractor/resnet_v1_101/block3']                                                    \n",
    "        resized_block_2 = tf.image.resize_images(resnet_block_2, tf.shape(resnet_block_1)[1:3],align_corners=True)\n",
    "        resized_block_3 = tf.image.resize_images(resnet_block_3, tf.shape(resnet_block_1)[1:3],align_corners=True)\n",
    "    \n",
    "        concatenated_blocks = tf.concat([resnet_block_1, resized_block_2, resized_block_3], 3)\n",
    "        concat_print = tf.Print(concatenated_blocks, [tf.shape(concatenated_blocks)[1:3]])\n",
    "    \n",
    "    with slim.arg_scope(\n",
    "            [slim.conv2d],\n",
    "            weights_regularizer=slim.l2_regularizer(0.001),\n",
    "            weights_initializer=tf.truncated_normal_initializer(stddev=0.01),\n",
    "            reuse=None):\n",
    "    \n",
    "        net = slim.conv2d(concat_print,\n",
    "                        3,\n",
    "                        kernel_size=1,\n",
    "                        activation_fn=None)\n",
    "    with tf.name_scope(\"transpose\"):\n",
    "        net2 = tf.identity(net, name='the_output')\n",
    "        net3 = slim.conv2d_transpose(net2,3,4, 2)\n",
    "        net4 = slim.conv2d_transpose(net3,3,4, 2)\n",
    "        net5 = slim.conv2d_transpose(net4,3,4, 2)\n",
    "        shapex = tf.Print(tf.shape(net5), [tf.shape(net5)])\n",
    "#ema = tf.train.ExponentialMovingAverage(0.999)\n",
    "#vars = ema.variables_to_restore()\n",
    "init_op = tf.global_variables_initializer()\n",
    "saver = tf.train.Saver()  \n"
   ]
  },
  {
   "cell_type": "code",
   "execution_count": 9,
   "metadata": {
    "colab": {
     "base_uri": "https://localhost:8080/",
     "height": 666
    },
    "colab_type": "code",
    "id": "TJbLYo_FCxXy",
    "outputId": "60f490cb-baca-4146-d110-fd9f0e208b48"
   },
   "outputs": [],
   "source": [
    "from IPython.display import clear_output, Image, HTML\n",
    "from IPython.display import display as dips\n",
    "import numpy as np\n",
    "def strip_consts(graph_def, max_const_size=32):\n",
    "    \"\"\"Strip large constant values from graph_def.\"\"\"\n",
    "    strip_def = tf.GraphDef()\n",
    "    for n0 in graph_def.node:\n",
    "        n = strip_def.node.add() \n",
    "        n.MergeFrom(n0)\n",
    "        if n.op == 'Const':\n",
    "            tensor = n.attr['value'].tensor\n",
    "            size = len(tensor.tensor_content)\n",
    "            if size > max_const_size:\n",
    "                tensor.tensor_content = \"<stripped %d bytes>\"%size\n",
    "    return strip_def\n",
    "\n",
    "def show_graph(graph_def, max_const_size=32):\n",
    "    \"\"\"Visualize TensorFlow graph.\"\"\"\n",
    "    if hasattr(graph_def, 'as_graph_def'):\n",
    "        graph_def = graph_def.as_graph_def()\n",
    "    strip_def = strip_consts(graph_def, max_const_size=max_const_size)\n",
    "    code = \"\"\"\n",
    "        <script>\n",
    "          function load() {{\n",
    "            document.getElementById(\"{id}\").pbtxt = {data};\n",
    "          }}\n",
    "        </script>\n",
    "        <link rel=\"import\" href=\"https://tensorboard.appspot.com/tf-graph-basic.build.html\" onload=load()>\n",
    "        <div style=\"height:600px\">\n",
    "          <tf-graph-basic id=\"{id}\"></tf-graph-basic>\n",
    "        </div>\n",
    "    \"\"\".format(data=repr(str(strip_def)), id='graph'+str(np.random.rand()))\n",
    "\n",
    "    iframe = \"\"\"\n",
    "        <iframe seamless style=\"width:1200px;height:620px;border:0\" srcdoc=\"{}\"></iframe>\n",
    "    \"\"\".format(code.replace('\"', '&quot;'))\n",
    "    dips(HTML(iframe))\n",
    "    "
   ]
  },
  {
   "cell_type": "code",
   "execution_count": 19,
   "metadata": {
    "colab": {
     "base_uri": "https://localhost:8080/",
     "height": 666
    },
    "colab_type": "code",
    "id": "TJbLYo_FCxXy",
    "outputId": "60f490cb-baca-4146-d110-fd9f0e208b48"
   },
   "outputs": [
    {
     "name": "stdout",
     "output_type": "stream",
     "text": [
      "[  1 536 536   3]\n"
     ]
    }
   ],
   "source": [
    "from IPython import display\n",
    "import pylab\n",
    "from datasets import imagenet\n",
    "import PIL\n",
    "from PIL import Image\n",
    "\n",
    "\n",
    "\n",
    "with tf.Session() as sess:\n",
    "  tf.train.write_graph(sess.graph_def, '/tmp/', 'train.pbtxt')\n",
    "\n",
    "  #saver.restore(sess,  checkpoint)\n",
    "  sess.run(init_op)\n",
    "  x = shapex.eval(feed_dict={file_input: 'panda.jpg'})\n",
    "#label_map = imagenet.create_readable_names_for_imagenet_labels()  \n",
    "#print(\"Top 1 prediction: \", x.argmax(),label_map[x.argmax()], x.max())\n",
    "print(x)\n",
    "#display.display(display.Image('panda.jpg'))\n",
    "\n",
    "#img = Image.fromarray(x, 'RGB')\n",
    "#img.show()"
   ]
  },
  {
   "cell_type": "markdown",
   "metadata": {
    "colab_type": "text",
    "id": "PlwvpK3ElBk6"
   },
   "source": [
    "# Frozen inference"
   ]
  },
  {
   "cell_type": "code",
   "execution_count": 7,
   "metadata": {
    "colab": {
     "base_uri": "https://localhost:8080/",
     "height": 17
    },
    "colab_type": "code",
    "id": "o0BIbQUUlVrf",
    "outputId": "029626e1-6b6d-4768-db76-e4a22c7cbd48"
   },
   "outputs": [],
   "source": [
    "import numpy as np\n",
    "img = np.array(PIL.Image.open('panda.jpg').resize((224, 224))).astype(np.float) / 128 - 1\n",
    "gd = tf.GraphDef.FromString(open(base_name + '_frozen.pb', 'rb').read())\n",
    "inp, predictions = tf.import_graph_def(gd,  return_elements = ['input:0', 'MobilenetV2/Predictions/Reshape_1:0'])"
   ]
  },
  {
   "cell_type": "code",
   "execution_count": 8,
   "metadata": {
    "colab": {
     "base_uri": "https://localhost:8080/",
     "height": 35
    },
    "colab_type": "code",
    "id": "qSU2h5NRlN7V",
    "outputId": "1fbdbade-b0e8-422d-a2b2-9a6b6192ee6a"
   },
   "outputs": [
    {
     "name": "stdout",
     "output_type": "stream",
     "text": [
      "Top 1 Prediction:  389 giant panda, panda, panda bear, coon bear, Ailuropoda melanoleuca 0.8914295\n"
     ]
    }
   ],
   "source": [
    "with tf.Session(graph=inp.graph):\n",
    "  x = predictions.eval(feed_dict={inp: img.reshape(1, 224,224, 3)})\n",
    "\n",
    "label_map = imagenet.create_readable_names_for_imagenet_labels()  \n",
    "print(\"Top 1 Prediction: \", x.argmax(),label_map[x.argmax()], x.max())"
   ]
  },
  {
   "cell_type": "code",
   "execution_count": 0,
   "metadata": {
    "colab": {},
    "colab_type": "code",
    "id": "CU8dJF8kCo6X"
   },
   "outputs": [],
   "source": []
  }
 ],
 "metadata": {
  "colab": {
   "collapsed_sections": [
    "T_cETKXHDTXu"
   ],
   "name": "Mobilenet Example.ipynb",
   "provenance": [],
   "version": "0.3.2"
  },
  "kernelspec": {
   "display_name": "blah",
   "language": "python",
   "name": "testenv"
  },
  "language_info": {
   "codemirror_mode": {
    "name": "ipython",
    "version": 2
   },
   "file_extension": ".py",
   "mimetype": "text/x-python",
   "name": "python",
   "nbconvert_exporter": "python",
   "pygments_lexer": "ipython2",
   "version": "2.7.12"
  }
 },
 "nbformat": 4,
 "nbformat_minor": 1
}
